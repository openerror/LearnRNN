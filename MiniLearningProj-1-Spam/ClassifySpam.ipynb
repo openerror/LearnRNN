{
 "cells": [
  {
   "cell_type": "markdown",
   "metadata": {},
   "source": [
    "# Spam classification --- simple practice for using LSTMs\n",
    "Data obtained from past [Kaggle](https://www.kaggle.com/uciml/sms-spam-collection-dataset) competition. Contains 5572 observations, each labeled as 'ham' or 'spam'. We will build a LSTM for classifying between the two, and explore exactly how complicated (or simple) a model is needed."
   ]
  },
  {
   "cell_type": "markdown",
   "metadata": {},
   "source": [
    "## Read data and validate its integrity"
   ]
  },
  {
   "cell_type": "code",
   "execution_count": 1,
   "metadata": {},
   "outputs": [],
   "source": [
    "import pandas as pd\n",
    "import seaborn as sns\n",
    "import numpy as np\n",
    "import matplotlib.pyplot as plt\n",
    "from sklearn.model_selection import train_test_split\n",
    "from sklearn.preprocessing import LabelEncoder\n",
    "%matplotlib inline"
   ]
  },
  {
   "cell_type": "code",
   "execution_count": 2,
   "metadata": {},
   "outputs": [
    {
     "data": {
      "text/html": [
       "<div>\n",
       "<style scoped>\n",
       "    .dataframe tbody tr th:only-of-type {\n",
       "        vertical-align: middle;\n",
       "    }\n",
       "\n",
       "    .dataframe tbody tr th {\n",
       "        vertical-align: top;\n",
       "    }\n",
       "\n",
       "    .dataframe thead th {\n",
       "        text-align: right;\n",
       "    }\n",
       "</style>\n",
       "<table border=\"1\" class=\"dataframe\">\n",
       "  <thead>\n",
       "    <tr style=\"text-align: right;\">\n",
       "      <th></th>\n",
       "      <th>v1</th>\n",
       "      <th>v2</th>\n",
       "      <th>Unnamed: 2</th>\n",
       "      <th>Unnamed: 3</th>\n",
       "      <th>Unnamed: 4</th>\n",
       "    </tr>\n",
       "  </thead>\n",
       "  <tbody>\n",
       "    <tr>\n",
       "      <th>0</th>\n",
       "      <td>ham</td>\n",
       "      <td>Go until jurong point, crazy.. Available only ...</td>\n",
       "      <td>NaN</td>\n",
       "      <td>NaN</td>\n",
       "      <td>NaN</td>\n",
       "    </tr>\n",
       "    <tr>\n",
       "      <th>1</th>\n",
       "      <td>ham</td>\n",
       "      <td>Ok lar... Joking wif u oni...</td>\n",
       "      <td>NaN</td>\n",
       "      <td>NaN</td>\n",
       "      <td>NaN</td>\n",
       "    </tr>\n",
       "    <tr>\n",
       "      <th>2</th>\n",
       "      <td>spam</td>\n",
       "      <td>Free entry in 2 a wkly comp to win FA Cup fina...</td>\n",
       "      <td>NaN</td>\n",
       "      <td>NaN</td>\n",
       "      <td>NaN</td>\n",
       "    </tr>\n",
       "    <tr>\n",
       "      <th>3</th>\n",
       "      <td>ham</td>\n",
       "      <td>U dun say so early hor... U c already then say...</td>\n",
       "      <td>NaN</td>\n",
       "      <td>NaN</td>\n",
       "      <td>NaN</td>\n",
       "    </tr>\n",
       "    <tr>\n",
       "      <th>4</th>\n",
       "      <td>ham</td>\n",
       "      <td>Nah I don't think he goes to usf, he lives aro...</td>\n",
       "      <td>NaN</td>\n",
       "      <td>NaN</td>\n",
       "      <td>NaN</td>\n",
       "    </tr>\n",
       "  </tbody>\n",
       "</table>\n",
       "</div>"
      ],
      "text/plain": [
       "     v1                                                 v2 Unnamed: 2  \\\n",
       "0   ham  Go until jurong point, crazy.. Available only ...        NaN   \n",
       "1   ham                      Ok lar... Joking wif u oni...        NaN   \n",
       "2  spam  Free entry in 2 a wkly comp to win FA Cup fina...        NaN   \n",
       "3   ham  U dun say so early hor... U c already then say...        NaN   \n",
       "4   ham  Nah I don't think he goes to usf, he lives aro...        NaN   \n",
       "\n",
       "  Unnamed: 3 Unnamed: 4  \n",
       "0        NaN        NaN  \n",
       "1        NaN        NaN  \n",
       "2        NaN        NaN  \n",
       "3        NaN        NaN  \n",
       "4        NaN        NaN  "
      ]
     },
     "execution_count": 2,
     "metadata": {},
     "output_type": "execute_result"
    }
   ],
   "source": [
    "raw_data = pd.read_csv(\"spam.csv\", encoding='latin-1')\n",
    "raw_data.head()"
   ]
  },
  {
   "cell_type": "markdown",
   "metadata": {},
   "source": [
    "Dropping the three unnamed columns, and confirm that there is no missing data"
   ]
  },
  {
   "cell_type": "code",
   "execution_count": 3,
   "metadata": {},
   "outputs": [
    {
     "name": "stdout",
     "output_type": "stream",
     "text": [
      "v1    0\n",
      "v2    0\n",
      "dtype: int64\n"
     ]
    }
   ],
   "source": [
    "data = raw_data.drop(columns=['Unnamed: 2', 'Unnamed: 3', 'Unnamed: 4'])\n",
    "print(pd.DataFrame.sum(data.isna()))"
   ]
  },
  {
   "cell_type": "markdown",
   "metadata": {},
   "source": [
    "Rename the columns to something meaningful; visualize the class imbalance. Since there are many more spam than ham messages, we should use ROC/AUC as the evaluation metric, rather than straightforward accuracy!"
   ]
  },
  {
   "cell_type": "code",
   "execution_count": 4,
   "metadata": {},
   "outputs": [
    {
     "data": {
      "text/plain": [
       "<matplotlib.axes._subplots.AxesSubplot at 0x1a1a49f470>"
      ]
     },
     "execution_count": 4,
     "metadata": {},
     "output_type": "execute_result"
    },
    {
     "data": {
      "image/png": "[encoded data removed]",
      "text/plain": [
       "<Figure size 432x288 with 1 Axes>"
      ]
     },
     "metadata": {
      "needs_background": "light"
     },
     "output_type": "display_data"
    }
   ],
   "source": [
    "data = data.rename({\"v1\":\"Spam\", \"v2\": \"Message\"}, axis='columns')\n",
    "sns.countplot(data.Spam)"
   ]
  },
  {
   "cell_type": "markdown",
   "metadata": {},
   "source": [
    "## Process data for input into machine learning models\n",
    "- Encode the classes as 1/0 (Spam/Ham). \n",
    "- Split the data into training and test sets. We will carry out cross-validation within the training set, and evaluate our model on the test set at the very end."
   ]
  },
  {
   "cell_type": "code",
   "execution_count": 5,
   "metadata": {},
   "outputs": [
    {
     "name": "stdout",
     "output_type": "stream",
     "text": [
      "['ham' 'spam']\n"
     ]
    }
   ],
   "source": [
    "le = LabelEncoder()\n",
    "Y = le.fit_transform(data.Spam)\n",
    "#Y = Y.reshape(-1, 1)\n",
    "X = data.Message\n",
    "\n",
    "X_train, X_test, Y_train, Y_test = train_test_split(X, Y, test_size=0.15, shuffle=True, random_state = 12321)\n",
    "\n",
    "''' Verify that 'spam' -> 1. In binary classification problems, \n",
    "it's convention to encode the class we are interested in as 1. '''\n",
    "print(le.inverse_transform([0,1]))"
   ]
  },
  {
   "cell_type": "markdown",
   "metadata": {},
   "source": [
    "### *Tokenize* the messages --- i.e. text to numbers"
   ]
  },
  {
   "cell_type": "code",
   "execution_count": 6,
   "metadata": {},
   "outputs": [
    {
     "name": "stderr",
     "output_type": "stream",
     "text": [
      "Using TensorFlow backend.\n"
     ]
    }
   ],
   "source": [
    "from keras.preprocessing.text import Tokenizer\n",
    "from keras.preprocessing import sequence\n",
    "from keras.utils import to_categorical\n",
    "from keras.callbacks import EarlyStopping"
   ]
  },
  {
   "cell_type": "markdown",
   "metadata": {},
   "source": [
    "Naturally not all messages have the same length. Padding is the most straightforward way to handle this difference --- we will null characters to the end of shorter sequences. Before doing so, we will first obtain some statistics on the distribution of message lengths...\n",
    "\n",
    "We see that most messages are within 130 characters, but there are some excessively long ones (max 910). While I am limiting the sequence length to 200 characters, you are welcome to play with the value."
   ]
  },
  {
   "cell_type": "code",
   "execution_count": 7,
   "metadata": {},
   "outputs": [
    {
     "data": {
      "text/plain": [
       "count    5572.000000\n",
       "mean       80.118808\n",
       "std        59.690841\n",
       "min         2.000000\n",
       "25%        36.000000\n",
       "50%        61.000000\n",
       "75%       121.000000\n",
       "max       910.000000\n",
       "Name: Message, dtype: float64"
      ]
     },
     "execution_count": 7,
     "metadata": {},
     "output_type": "execute_result"
    }
   ],
   "source": [
    "data.Message.apply(len).describe()"
   ]
  },
  {
   "cell_type": "markdown",
   "metadata": {},
   "source": [
    "Tokenize the messages --- represent each unique word into an integer. Fortunately, Keras has provided several convenience functions for doing just that. For this project, I am arbitrary limiting ourselves to use the *most common* 1000 words."
   ]
  },
  {
   "cell_type": "code",
   "execution_count": 8,
   "metadata": {},
   "outputs": [],
   "source": [
    "max_words = 1000 # Consider this number of most common words\n",
    "max_len = 200    # Limit each sequence \n",
    "\n",
    "tokenizer = Tokenizer(num_words=max_words)\n",
    "tokenizer.fit_on_texts(X_train)\n",
    "train_sequences = tokenizer.texts_to_sequences(X_train)\n",
    "train_sequences = sequence.pad_sequences(train_sequences, maxlen=max_len)\n",
    "\n",
    "test_sequences = tokenizer.texts_to_sequences(X_test)\n",
    "test_sequences = sequence.pad_sequences(test_sequences, maxlen=max_len)"
   ]
  },
  {
   "cell_type": "markdown",
   "metadata": {},
   "source": [
    "### Build Keras model"
   ]
  },
  {
   "cell_type": "code",
   "execution_count": 9,
   "metadata": {},
   "outputs": [],
   "source": [
    "from keras.models import Model\n",
    "from keras.layers import LSTM, Dense, Dropout, Input, Embedding, Input, Conv1D, MaxPool1D\n",
    "from keras.optimizers import Adam\n",
    "from keras.callbacks import EarlyStopping"
   ]
  },
  {
   "cell_type": "code",
   "execution_count": 10,
   "metadata": {},
   "outputs": [],
   "source": [
    "def build_model(n_a = 64):\n",
    "    ''' Building a Keras model, the functional approach. This is a many-to-1 model: the RNN\n",
    "        iterates through many elements, before returning a single output.\n",
    "    '''\n",
    "    \n",
    "    inputs = Input(name=\"inputs\", shape=(max_len,))\n",
    "    \n",
    "    # Interestingly, without this Embedding layer, the model cannot learn anything useful.\n",
    "    # The accuracy would remain at around 87% --- around the proportion of hams.\n",
    "    # Tried embedding dimension of 50, but 10 actually already suffices for getting good performance\n",
    "    # Lesson: try extracting USEFUL features from the text before sending into RNN\n",
    "    layer = Embedding(max_words, 10, input_length=max_len)(inputs)\n",
    "    layer = LSTM(n_a, dropout=0.5, recurrent_dropout=0.1)(layer)\n",
    "    \n",
    "    # Interesting how the model trains QUICKER with these intermediate layer! \n",
    "    layer = Dense(256, name=\"FC1\", activation='relu')(layer)\n",
    "    layer = Dropout(0.5)(layer)\n",
    "    \n",
    "    # Sigmoid activation: similar to binomial logistic regression\n",
    "    layer = Dense(1, name=\"out_layer\", activation=\"sigmoid\")(layer)\n",
    "    model = Model(inputs=inputs, outputs=layer)\n",
    "    \n",
    "    return model"
   ]
  },
  {
   "cell_type": "markdown",
   "metadata": {},
   "source": [
    "Now let's investigate how complicated a model we need for this problem. Experiment shows that even with just 4 hidden units in the RNN, we are getting very good validation results. Wonder how it is like on the test set?"
   ]
  },
  {
   "cell_type": "code",
   "execution_count": 11,
   "metadata": {},
   "outputs": [],
   "source": [
    "hidden_units = [4, 16, 64]\n",
    "models = []\n",
    "num_epochs = 8\n",
    "loss_history = np.zeros(shape=(len(hidden_units), num_epochs))\n",
    "\n",
    "callback_list = [EarlyStopping(monitor='val_loss', patience=5)]"
   ]
  },
  {
   "cell_type": "code",
   "execution_count": 12,
   "metadata": {},
   "outputs": [
    {
     "name": "stdout",
     "output_type": "stream",
     "text": [
      "Training model with 4 hidden units!\n",
      "Train on 4025 samples, validate on 711 samples\n",
      "Epoch 1/8\n",
      "4025/4025 [==============================] - 8s 2ms/step - loss: 0.6132 - acc: 0.8559 - val_loss: 0.4970 - val_acc: 0.8622\n",
      "Epoch 2/8\n",
      "4025/4025 [==============================] - 7s 2ms/step - loss: 0.3915 - acc: 0.8656 - val_loss: 0.3171 - val_acc: 0.8622\n",
      "Epoch 3/8\n",
      "4025/4025 [==============================] - 7s 2ms/step - loss: 0.2693 - acc: 0.8683 - val_loss: 0.1924 - val_acc: 0.8847\n",
      "Epoch 4/8\n",
      "4025/4025 [==============================] - 7s 2ms/step - loss: 0.1506 - acc: 0.9501 - val_loss: 0.0829 - val_acc: 0.9817\n",
      "Epoch 5/8\n",
      "4025/4025 [==============================] - 7s 2ms/step - loss: 0.0793 - acc: 0.9794 - val_loss: 0.0481 - val_acc: 0.9887\n",
      "Epoch 6/8\n",
      "4025/4025 [==============================] - 7s 2ms/step - loss: 0.0596 - acc: 0.9841 - val_loss: 0.0418 - val_acc: 0.9873\n",
      "Epoch 7/8\n",
      "4025/4025 [==============================] - 7s 2ms/step - loss: 0.0532 - acc: 0.9858 - val_loss: 0.0416 - val_acc: 0.9873\n",
      "Epoch 8/8\n",
      "4025/4025 [==============================] - 7s 2ms/step - loss: 0.0463 - acc: 0.9863 - val_loss: 0.0419 - val_acc: 0.9859\n",
      "Training model with 16 hidden units!\n",
      "Train on 4025 samples, validate on 711 samples\n",
      "Epoch 1/8\n",
      "4025/4025 [==============================] - 9s 2ms/step - loss: 0.5772 - acc: 0.8599 - val_loss: 0.3752 - val_acc: 0.8622\n",
      "Epoch 2/8\n",
      "4025/4025 [==============================] - 7s 2ms/step - loss: 0.3447 - acc: 0.8656 - val_loss: 0.2796 - val_acc: 0.8622\n",
      "Epoch 3/8\n",
      "4025/4025 [==============================] - 7s 2ms/step - loss: 0.2168 - acc: 0.8942 - val_loss: 0.1255 - val_acc: 0.9677\n",
      "Epoch 4/8\n",
      "4025/4025 [==============================] - 7s 2ms/step - loss: 0.1125 - acc: 0.9739 - val_loss: 0.0539 - val_acc: 0.9873\n",
      "Epoch 5/8\n",
      "4025/4025 [==============================] - 7s 2ms/step - loss: 0.0667 - acc: 0.9821 - val_loss: 0.0390 - val_acc: 0.9887\n",
      "Epoch 6/8\n",
      "4025/4025 [==============================] - 8s 2ms/step - loss: 0.0486 - acc: 0.9866 - val_loss: 0.0365 - val_acc: 0.9873\n",
      "Epoch 7/8\n",
      "4025/4025 [==============================] - 7s 2ms/step - loss: 0.0434 - acc: 0.9888 - val_loss: 0.0362 - val_acc: 0.9887\n",
      "Epoch 8/8\n",
      "4025/4025 [==============================] - 7s 2ms/step - loss: 0.0370 - acc: 0.9896 - val_loss: 0.0348 - val_acc: 0.9902\n",
      "Training model with 64 hidden units!\n",
      "Train on 4025 samples, validate on 711 samples\n",
      "Epoch 1/8\n",
      "4025/4025 [==============================] - 9s 2ms/step - loss: 0.4940 - acc: 0.8604 - val_loss: 0.3465 - val_acc: 0.8622\n",
      "Epoch 2/8\n",
      "4025/4025 [==============================] - 9s 2ms/step - loss: 0.2546 - acc: 0.8939 - val_loss: 0.1251 - val_acc: 0.9817\n",
      "Epoch 3/8\n",
      "4025/4025 [==============================] - 11s 3ms/step - loss: 0.1040 - acc: 0.9727 - val_loss: 0.0555 - val_acc: 0.9873\n",
      "Epoch 4/8\n",
      "4025/4025 [==============================] - 10s 3ms/step - loss: 0.0639 - acc: 0.9829 - val_loss: 0.0387 - val_acc: 0.9887\n",
      "Epoch 5/8\n",
      "4025/4025 [==============================] - 10s 2ms/step - loss: 0.0523 - acc: 0.9843 - val_loss: 0.0336 - val_acc: 0.9873\n",
      "Epoch 6/8\n",
      "4025/4025 [==============================] - 8s 2ms/step - loss: 0.0387 - acc: 0.9888 - val_loss: 0.0371 - val_acc: 0.9902\n",
      "Epoch 7/8\n",
      "4025/4025 [==============================] - 9s 2ms/step - loss: 0.0396 - acc: 0.9881 - val_loss: 0.0385 - val_acc: 0.9887\n",
      "Epoch 8/8\n",
      "4025/4025 [==============================] - 9s 2ms/step - loss: 0.0340 - acc: 0.9903 - val_loss: 0.0346 - val_acc: 0.9902\n"
     ]
    }
   ],
   "source": [
    "for ia, na in enumerate(hidden_units):\n",
    "    print(\"Training model with {} hidden units!\".format(na))\n",
    "    model = build_model(na)\n",
    "    model.compile(optimizer=Adam(), loss=\"binary_crossentropy\", metrics=['accuracy'])\n",
    "    history = model.fit(train_sequences, Y_train, validation_split=0.15, epochs=num_epochs, \n",
    "                        batch_size=128, verbose=1)\n",
    "    models.append(model)\n",
    "    loss_history[ia,:] = history.history['val_loss'] "
   ]
  },
  {
   "cell_type": "markdown",
   "metadata": {},
   "source": [
    "As we can see, the 64 unit model converged more quickly, but as we trained for epochs the difference in val_loss is miniscule."
   ]
  },
  {
   "cell_type": "code",
   "execution_count": 13,
   "metadata": {},
   "outputs": [
    {
     "data": {
      "text/plain": [
       "Text(0, 0.5, 'Crossentropy loss')"
      ]
     },
     "execution_count": 13,
     "metadata": {},
     "output_type": "execute_result"
    },
    {
     "data": {
      "image/png": "[encoded data removed]",
      "text/plain": [
       "<Figure size 432x288 with 1 Axes>"
      ]
     },
     "metadata": {},
     "output_type": "display_data"
    }
   ],
   "source": [
    "plt.style.use('ggplot')\n",
    "for na, loss in zip(hidden_units, loss_history):\n",
    "    plt.plot(range(len(loss)), loss, '-x', label=\"{}\".format(na))\n",
    "plt.legend()\n",
    "\n",
    "plt.title(\"Change of validation loss with epoch\")\n",
    "plt.xlabel(\"Epochs\")\n",
    "plt.ylabel(\"Crossentropy loss\")"
   ]
  },
  {
   "cell_type": "markdown",
   "metadata": {},
   "source": [
    "## Evaluate on test data"
   ]
  },
  {
   "cell_type": "markdown",
   "metadata": {},
   "source": [
    "Now let's evaluate on the test set. Two main observations\n",
    "1. The test accuracy is higher than 87%, the proportion of hams in the overall data set. Therefore, our model has really learnt something. This is confirmed by looking at the ROC. See [this post](https://towardsdatascience.com/beyond-accuracy-precision-and-recall-3da06bea9f6c) for more information ROC/AUC.\n",
    "2. A more complicated model doesn't necessarily lead to better performance --- but $\\leq$0.5% of accuracy difference might not matter in industry applications.\n",
    "\n",
    "The take-away lesson? Try to overfit, and then tune down model complexity. That way we get a model that works **and** is the leanest."
   ]
  },
  {
   "cell_type": "code",
   "execution_count": 14,
   "metadata": {},
   "outputs": [
    {
     "name": "stdout",
     "output_type": "stream",
     "text": [
      "836/836 [==============================] - 1s 1ms/step\n",
      "With 4 hidden units, test loss=0.035770750272591294, accuracy=0.9904306220095693\n",
      "836/836 [==============================] - 1s 998us/step\n",
      "With 16 hidden units, test loss=0.04007513983772274, accuracy=0.9868421052631579\n",
      "836/836 [==============================] - 1s 981us/step\n",
      "With 64 hidden units, test loss=0.045501401096205873, accuracy=0.9868421052631579\n"
     ]
    }
   ],
   "source": [
    "for model, na in zip(models, hidden_units):\n",
    "    results = model.evaluate(test_sequences, Y_test)\n",
    "    print(\"With {} hidden units, test loss={}, accuracy={}\".format(na, results[0], results[1]))"
   ]
  },
  {
   "cell_type": "code",
   "execution_count": 15,
   "metadata": {},
   "outputs": [],
   "source": [
    "from sklearn.metrics import roc_auc_score\n",
    "from sklearn.metrics import roc_curve"
   ]
  },
  {
   "cell_type": "code",
   "execution_count": 16,
   "metadata": {},
   "outputs": [
    {
     "name": "stdout",
     "output_type": "stream",
     "text": [
      "For 4 hidden RNN dimensions, the AUC is 0.9976851851851852\n",
      "For 16 hidden RNN dimensions, the AUC is 0.9966168091168092\n",
      "For 64 hidden RNN dimensions, the AUC is 0.9969729344729344\n"
     ]
    },
    {
     "data": {
      "text/plain": [
       "<matplotlib.legend.Legend at 0x1a1ab3dac8>"
      ]
     },
     "execution_count": 16,
     "metadata": {},
     "output_type": "execute_result"
    },
    {
     "data": {
      "image/png": "[encoded data removed]",
      "text/plain": [
       "<Figure size 432x288 with 1 Axes>"
      ]
     },
     "metadata": {},
     "output_type": "display_data"
    }
   ],
   "source": [
    "for model, na in zip(models, hidden_units):\n",
    "    # Generate model predictions for test set\n",
    "    # preds contains the probabilities that each observation belongs to class 1\n",
    "    preds = model.predict(test_sequences)\n",
    "    \n",
    "    # Compute the ROC\n",
    "    fpr, tpr, thresholds = roc_curve(Y_test, preds, pos_label=1)\n",
    "    plt.plot(fpr, tpr, '-', label='RNN hidden dimensions: {}'.format(na))\n",
    "    \n",
    "    # Compute AUC\n",
    "    auc_score = roc_auc_score(y_true=Y_test, y_score=preds)\n",
    "    print(\"For {} hidden RNN dimensions, the AUC is {}\".format(na, auc_score))\n",
    "\n",
    "plt.xlim([-0.05, 0.2])\n",
    "plt.title(\"ROC for the models trained\")\n",
    "plt.xlabel(\"False Positive Rate\")\n",
    "plt.ylabel(\"True Positive Rate\")\n",
    "plt.legend()"
   ]
  }
 ],
 "metadata": {
  "kernelspec": {
   "display_name": "Python 3",
   "language": "python",
   "name": "python3"
  },
  "language_info": {
   "codemirror_mode": {
    "name": "ipython",
    "version": 3
   },
   "file_extension": ".py",
   "mimetype": "text/x-python",
   "name": "python",
   "nbconvert_exporter": "python",
   "pygments_lexer": "ipython3",
   "version": "3.6.6"
  }
 },
 "nbformat": 4,
 "nbformat_minor": 2
}
